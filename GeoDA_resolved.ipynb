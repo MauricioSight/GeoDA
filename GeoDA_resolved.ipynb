{
  "cells": [
    {
      "cell_type": "code",
      "execution_count": 1,
      "metadata": {
        "id": "EkODPbQNZ3Wx"
      },
      "outputs": [
        {
          "name": "stderr",
          "output_type": "stream",
          "text": [
            "/Users/mauriciosightman/Library/Python/3.9/lib/python/site-packages/urllib3/__init__.py:34: NotOpenSSLWarning: urllib3 v2.0 only supports OpenSSL 1.1.1+, currently the 'ssl' module is compiled with 'LibreSSL 2.8.3'. See: https://github.com/urllib3/urllib3/issues/3020\n",
            "  warnings.warn(\n"
          ]
        }
      ],
      "source": [
        "import torch.nn as nn\n",
        "import torchvision.transforms as transforms\n",
        "import torchvision.models as torch_models\n",
        "import matplotlib.pyplot as plt\n",
        "import numpy as np\n",
        "import torch\n",
        "import os\n",
        "from PIL import Image\n",
        "from torch.autograd import Variable\n",
        "from numpy import linalg\n",
        "import math\n",
        "from math import cos, sqrt, pi\n",
        "import time\n",
        "import copy\n",
        "import csv\n",
        "import pandas as pd\n",
        "from tqdm import tqdm\n",
        "from torchvision.models import ResNet50_Weights"
      ]
    },
    {
      "cell_type": "markdown",
      "metadata": {},
      "source": [
        "## Getting Data"
      ]
    },
    {
      "cell_type": "markdown",
      "metadata": {},
      "source": [
        "#### Download Image Net"
      ]
    },
    {
      "cell_type": "code",
      "execution_count": null,
      "metadata": {
        "colab": {
          "base_uri": "https://localhost:8080/"
        },
        "id": "zOQqVt2bkU-P",
        "outputId": "4d38e455-82e1-44fc-c4ff-460eaf98157a"
      },
      "outputs": [],
      "source": [
        "!wget https://image-net.org/data/ILSVRC/2012/ILSVRC2012_img_val.tar"
      ]
    },
    {
      "cell_type": "code",
      "execution_count": null,
      "metadata": {
        "id": "5Ci9ZGte-r5H"
      },
      "outputs": [],
      "source": [
        "!mkdir ./ILSVRC2012_img_val\n",
        "!tar -xf ILSVRC2012_img_val.tar -C ./ILSVRC2012_img_val"
      ]
    },
    {
      "cell_type": "markdown",
      "metadata": {},
      "source": [
        "### Download Flowers 102"
      ]
    },
    {
      "cell_type": "code",
      "execution_count": null,
      "metadata": {},
      "outputs": [],
      "source": [
        "!wget https://www.robots.ox.ac.uk/~vgg/data/flowers/102/102flowers.tgz"
      ]
    },
    {
      "cell_type": "code",
      "execution_count": 54,
      "metadata": {},
      "outputs": [],
      "source": [
        "!mkdir ./Flowers102\n",
        "!tar -xf 102flowers.tgz -C ./Flowers102"
      ]
    },
    {
      "cell_type": "markdown",
      "metadata": {},
      "source": [
        "### Get images to test algorithm"
      ]
    },
    {
      "cell_type": "code",
      "execution_count": 49,
      "metadata": {},
      "outputs": [],
      "source": [
        "from collections import defaultdict\n",
        "import random"
      ]
    },
    {
      "cell_type": "code",
      "execution_count": 50,
      "metadata": {},
      "outputs": [],
      "source": [
        "def get_random_images(input_txt_path, output_csv_path):\n",
        "    # Lendo o arquivo TXT\n",
        "    df = pd.read_csv(input_txt_path, sep=' ', header=None, names=['image_name', 'class'])\n",
        "\n",
        "    # Criando um dicionário para armazenar as imagens por classe\n",
        "    images_per_class = defaultdict(list)\n",
        "    for index, row in df.iterrows():\n",
        "        images_per_class[row['class']].append(row['image_name'])\n",
        "\n",
        "    # Embaralhando as chaves das classes para seleção aleatória\n",
        "    classes = list(images_per_class.keys())\n",
        "    random.shuffle(classes)\n",
        "\n",
        "    # Inicializando a lista para armazenar as imagens selecionadas e suas classes\n",
        "    selected_images_and_classes = []\n",
        "\n",
        "    for i in range(TOTAL_IMAGES_TO_USE):\n",
        "        class_id = classes[i % len(classes)]\n",
        "        image_name = images_per_class[class_id][i % len(images_per_class[class_id])]\n",
        "        selected_images_and_classes.append((image_name, class_id))\n",
        "\n",
        "    # Criando um DataFrame com as imagens selecionadas e suas classes\n",
        "    df_selected = pd.DataFrame(selected_images_and_classes, columns=['image_name', 'class'])\n",
        "\n",
        "    # Salvando o DataFrame em um arquivo CSV\n",
        "    df_selected.to_csv(output_csv_path, index=False)\n",
        "\n",
        "    print(f\"Arquivo '{output_csv_path}' salvo com sucesso.\")\n",
        "    print(f\"Total de imagens selecionadas: {len(df_selected)}\")\n",
        "    print(f\"Total de classes cobertas: {df_selected['class'].nunique()}\")\n",
        "\n",
        "    # Retornando o DataFrame para visualização\n",
        "    return df_selected\n"
      ]
    },
    {
      "cell_type": "code",
      "execution_count": 2,
      "metadata": {},
      "outputs": [],
      "source": [
        "TOTAL_IMAGES_TO_USE = 175"
      ]
    },
    {
      "cell_type": "code",
      "execution_count": null,
      "metadata": {},
      "outputs": [],
      "source": [
        "# Image Net\n",
        "df_image_net = get_random_images('val.txt', 'val_used_imagens.csv')"
      ]
    },
    {
      "cell_type": "code",
      "execution_count": null,
      "metadata": {},
      "outputs": [],
      "source": [
        "df_image_net.groupby('class').size().reset_index(name='counts').sort_values('counts', ascending=False)"
      ]
    },
    {
      "cell_type": "code",
      "execution_count": null,
      "metadata": {},
      "outputs": [],
      "source": [
        "# Flowers 102\n",
        "df_flowers = get_random_images('val_102flowers.txt', 'val_flowers_used_imagens.csv')"
      ]
    },
    {
      "cell_type": "code",
      "execution_count": null,
      "metadata": {},
      "outputs": [],
      "source": [
        "df_flowers.groupby('class').size().reset_index(name='counts').sort_values('counts', ascending=False)"
      ]
    },
    {
      "cell_type": "markdown",
      "metadata": {},
      "source": [
        "### Load images into /data"
      ]
    },
    {
      "cell_type": "code",
      "execution_count": 51,
      "metadata": {},
      "outputs": [],
      "source": [
        "import shutil"
      ]
    },
    {
      "cell_type": "code",
      "execution_count": 52,
      "metadata": {},
      "outputs": [],
      "source": [
        "def move_images(csv_file_path, source_directory, target_directory):\n",
        "    # Lendo o arquivo CSV para obter os nomes das imagens\n",
        "    df = pd.read_csv(csv_file_path)\n",
        "\n",
        "    # Iterando sobre os nomes das imagens no DataFrame\n",
        "    for image_name in df['image_name']:\n",
        "        source_path = os.path.join(source_directory, image_name)\n",
        "        target_path = os.path.join(target_directory, image_name)\n",
        "\n",
        "        # Movendo a imagem\n",
        "        try:\n",
        "            shutil.move(source_path, target_path)\n",
        "        except FileNotFoundError:\n",
        "            print(f\"Imagem {image_name} não encontrada em {source_directory}.\")\n",
        "        except Exception as e:\n",
        "            print(f\"Erro ao mover {image_name}: {e}\")\n"
      ]
    },
    {
      "cell_type": "code",
      "execution_count": null,
      "metadata": {},
      "outputs": [],
      "source": [
        "# Image net\n",
        "# ONLY RUN THIS CODE ONE TIME\n",
        "!mkdir ./data/ILSVRC2012_img_val\n",
        "# move_images('val_used_imagens.csv', './ILSVRC2012_img_val', './data/ILSVRC2012_img_val')"
      ]
    },
    {
      "cell_type": "code",
      "execution_count": 55,
      "metadata": {},
      "outputs": [
        {
          "name": "stdout",
          "output_type": "stream",
          "text": [
            "mkdir: ./data/Flowers102: File exists\n"
          ]
        },
        {
          "name": "stdout",
          "output_type": "stream",
          "text": [
            "Imagem image_03199.jpg não encontrada em ./Flowers102/jpg.\n"
          ]
        }
      ],
      "source": [
        "# Flowers 102\n",
        "# ONLY RUN THIS CODE ONE TIME\n",
        "!mkdir ./data/Flowers102\n",
        "move_images('val_flowers_used_imagens.csv', './Flowers102/jpg', './data/Flowers102')"
      ]
    },
    {
      "cell_type": "markdown",
      "metadata": {
        "id": "wpn0Y3pqiiCz"
      },
      "source": [
        "## General Functions"
      ]
    },
    {
      "cell_type": "code",
      "execution_count": 3,
      "metadata": {
        "id": "6EU3R8_vpnxA"
      },
      "outputs": [],
      "source": [
        "torch.manual_seed(992)\n",
        "torch.cuda.manual_seed(992)\n",
        "np.random.seed(992)"
      ]
    },
    {
      "cell_type": "code",
      "execution_count": 4,
      "metadata": {
        "id": "gVhVjTuYZ3W1"
      },
      "outputs": [],
      "source": [
        "mean = [0.485, 0.456, 0.406]\n",
        "std = [0.229, 0.224, 0.225]"
      ]
    },
    {
      "cell_type": "code",
      "execution_count": 23,
      "metadata": {
        "id": "gDkTsqyFbvGp"
      },
      "outputs": [],
      "source": [
        "def dct(x, y, v, u, n):\n",
        "    # Normalisation\n",
        "    def alpha(a):\n",
        "        if a == 0:\n",
        "            return sqrt(1.0 / n)\n",
        "        else:\n",
        "            return sqrt(2.0 / n)\n",
        "\n",
        "    return alpha(u) * alpha(v) * cos(((2 * x + 1) * (u * pi)) / (2 * n)) * cos(((2 * y + 1) * (v * pi)) / (2 * n))\n",
        "\n",
        "\n",
        "def generate_2d_dct_basis(sub_dim=75):\n",
        "    n = 224  # Assume square image, so we don't have different xres and yres\n",
        "\n",
        "    # We can get different frequencies by setting u and v\n",
        "    # Here, we have a max u and v to loop over and display\n",
        "    # Feel free to adjust\n",
        "    maxU = sub_dim\n",
        "    maxV = sub_dim\n",
        "\n",
        "    dct_basis = []\n",
        "    for u in range(0, maxU):\n",
        "        for v in range(0, maxV):\n",
        "            basisImg = np.zeros((n, n))\n",
        "            for y in range(0, n):\n",
        "                for x in range(0, n):\n",
        "                    basisImg[y, x] = dct(x, y, v, u, max(n, maxV))\n",
        "            dct_basis.append(basisImg)\n",
        "    dct_basis = np.mat(np.reshape(dct_basis, (maxV*maxU, n*n))).transpose()\n",
        "    np.save('2d_dct_basis_{}.npy'.format(sub_dim), dct_basis)\n",
        "    return dct_basis\n"
      ]
    },
    {
      "cell_type": "code",
      "execution_count": 22,
      "metadata": {
        "id": "dUSuqdk2bgqO"
      },
      "outputs": [],
      "source": [
        "def get_label(x):\n",
        "    s = x.split(' ')\n",
        "    label = ''\n",
        "    for l in range(1, len(s)):\n",
        "        label += s[l] + ' '\n",
        "\n",
        "    return label\n",
        "\n",
        "def clip_image_values(x, minv, maxv):\n",
        "    x = torch.max(x, minv)\n",
        "    x = torch.min(x, maxv)\n",
        "    return x\n",
        "\n",
        "\n",
        "def valid_bounds(img, delta=255):\n",
        "\n",
        "    im = copy.deepcopy(np.asarray(img))\n",
        "    im = im.astype(int)\n",
        "\n",
        "    # General valid bounds [0, 255]\n",
        "    valid_lb = np.zeros_like(im)\n",
        "    valid_ub = np.full_like(im, 255)\n",
        "\n",
        "    # Compute the bounds\n",
        "    lb = im - delta\n",
        "    ub = im + delta\n",
        "\n",
        "    # Validate that the bounds are in [0, 255]\n",
        "    lb = np.maximum(valid_lb, np.minimum(lb, im))\n",
        "    ub = np.minimum(valid_ub, np.maximum(ub, im))\n",
        "\n",
        "    # Change types to uint8\n",
        "    lb = lb.astype(np.uint8)\n",
        "    ub = ub.astype(np.uint8)\n",
        "\n",
        "    return lb, ub"
      ]
    },
    {
      "cell_type": "code",
      "execution_count": 24,
      "metadata": {
        "id": "0dK-1PGUZ3W1"
      },
      "outputs": [],
      "source": [
        "def inv_tf(x, mean, std):\n",
        "    x_clone = x.copy()\n",
        "\n",
        "    for i in range(len(mean)):\n",
        "\n",
        "        x_clone[i] = np.multiply(x_clone[i], std[i], dtype=np.float32)\n",
        "        x_clone[i] = np.add(x_clone[i], mean[i], dtype=np.float32)\n",
        "\n",
        "    x_clone = np.swapaxes(x_clone, 0, 2)\n",
        "    x_clone = np.swapaxes(x_clone, 0, 1)\n",
        "\n",
        "    return x_clone"
      ]
    },
    {
      "cell_type": "code",
      "execution_count": 25,
      "metadata": {
        "id": "zuuHGUIsZ3W1"
      },
      "outputs": [],
      "source": [
        "def is_adversarial(target_model, given_image, orig_label):\n",
        "\n",
        "    predict_label = torch.argmax(target_model.forward(Variable(given_image, requires_grad=True)).data).item()\n",
        "\n",
        "    return predict_label != orig_label"
      ]
    },
    {
      "cell_type": "code",
      "execution_count": 26,
      "metadata": {
        "id": "EUjl3QiTZ3W2"
      },
      "outputs": [],
      "source": [
        "def find_random_adversarial(target_model, orig_label, image, lb, ub):\n",
        "\n",
        "    num_calls = 1\n",
        "\n",
        "    step = 0.02\n",
        "    perturbed = image.clone()\n",
        "\n",
        "    while is_adversarial(target_model, perturbed, orig_label) == 0:\n",
        "\n",
        "        pert = torch.randn([1,3,224,224])\n",
        "        pert = pert.to(device)\n",
        "\n",
        "        perturbed = image + num_calls*step* pert\n",
        "        perturbed = clip_image_values(perturbed, lb, ub)\n",
        "        perturbed = perturbed.to(device)\n",
        "        num_calls += 1\n",
        "\n",
        "    return perturbed, num_calls"
      ]
    },
    {
      "cell_type": "code",
      "execution_count": 27,
      "metadata": {
        "id": "KbPcEGHBZ3W2"
      },
      "outputs": [],
      "source": [
        "def bin_search(target_model, orig_label, x_0, x_random, tol):\n",
        "\n",
        "    num_calls = 0\n",
        "    adv = x_random\n",
        "    cln = x_0\n",
        "\n",
        "    while True:\n",
        "\n",
        "        mid = (cln + adv) / 2.0\n",
        "        num_calls += 1\n",
        "\n",
        "        if is_adversarial(target_model, mid, orig_label):\n",
        "            adv = mid\n",
        "        else:\n",
        "            cln = mid\n",
        "\n",
        "        if torch.norm(adv-cln).cpu().numpy()<tol:\n",
        "            break\n",
        "\n",
        "    return adv, num_calls"
      ]
    },
    {
      "cell_type": "code",
      "execution_count": 28,
      "metadata": {
        "id": "OyOfC5GWZ3W2"
      },
      "outputs": [],
      "source": [
        "def black_grad_batch(target_model, x_boundary, q_max, sigma, random_noises, batch_size, original_label, sub_basis_torch):\n",
        "\n",
        "    grad_tmp = [] # estimated gradients in each estimate_batch\n",
        "    z = []        # sign of grad_tmp\n",
        "    outs = []\n",
        "    num_batchs = math.ceil(q_max/batch_size)\n",
        "    last_batch = q_max - (num_batchs-1)*batch_size\n",
        "    \n",
        "    if torch.cuda.is_available():\n",
        "        EstNoise = SubNoise(batch_size, sub_basis_torch).cuda()\n",
        "    else:\n",
        "        EstNoise = SubNoise(batch_size, sub_basis_torch)\n",
        "\n",
        "    all_noises = []\n",
        "    for j in range(num_batchs):\n",
        "        if j == num_batchs-1:\n",
        "            if torch.cuda.is_available():\n",
        "                EstNoise_last = SubNoise(last_batch, sub_basis_torch).cuda()\n",
        "            else:\n",
        "                EstNoise_last = SubNoise(last_batch, sub_basis_torch)\n",
        "\n",
        "            current_batch = EstNoise_last()\n",
        "            current_batch_np = current_batch.cpu().numpy()\n",
        "            noisy_boundary = [x_boundary[0,:,:,:].cpu().numpy()]*last_batch +sigma*current_batch.cpu().numpy()\n",
        "\n",
        "        else:\n",
        "            current_batch = EstNoise()\n",
        "            current_batch_np = current_batch.cpu().numpy()\n",
        "            noisy_boundary = [x_boundary[0,:,:,:].cpu().numpy()]*batch_size +sigma*current_batch.cpu().numpy()\n",
        "\n",
        "        all_noises.append(current_batch_np)\n",
        "\n",
        "        noisy_boundary_tensor = torch.tensor(noisy_boundary).to(device)\n",
        "\n",
        "        predict_labels = torch.argmax(target_model.forward(noisy_boundary_tensor),1).cpu().numpy().astype(int)\n",
        "\n",
        "\n",
        "        outs.append(predict_labels)\n",
        "    all_noise = np.concatenate(all_noises, axis=0)\n",
        "    outs = np.concatenate(outs, axis=0)\n",
        "\n",
        "    acc = np.mean(outs == original_label)\n",
        "    for i, predict_label in enumerate(outs):\n",
        "        if predict_label == original_label:\n",
        "            z.append(1)\n",
        "            grad_tmp.append(all_noise[i])\n",
        "        else:\n",
        "            z.append(-1)\n",
        "            grad_tmp.append(-all_noise[i])\n",
        "\n",
        "    grad = -(1/q_max)*sum(grad_tmp)\n",
        "\n",
        "    grad_f = torch.tensor(grad).to(device)[None, :,:,:]\n",
        "\n",
        "    return grad_f, sum(z), acc"
      ]
    },
    {
      "cell_type": "code",
      "execution_count": 29,
      "metadata": {
        "id": "XGnU4DZ_Z3W2"
      },
      "outputs": [],
      "source": [
        "def go_to_boundary(target_model, orig_label, x_0, grad, x_b, dist, lb, ub):\n",
        "\n",
        "    epsilon = 5\n",
        "\n",
        "    num_calls = 1\n",
        "    perturbed = x_0\n",
        "\n",
        "    if dist == 'l1' or dist == 'l2':\n",
        "\n",
        "        grads = grad\n",
        "\n",
        "\n",
        "    if dist == 'linf':\n",
        "\n",
        "        grads = torch.sign(grad)/torch.norm(grad)\n",
        "\n",
        "\n",
        "\n",
        "    while is_adversarial(target_model, perturbed, orig_label) == 0:\n",
        "\n",
        "        perturbed = x_0 + (num_calls*epsilon* grads[0])\n",
        "        perturbed = clip_image_values(perturbed, lb, ub)\n",
        "\n",
        "        num_calls += 1\n",
        "\n",
        "        if num_calls > 100:\n",
        "            print('falied ... ')\n",
        "            break\n",
        "        print\n",
        "    return perturbed, num_calls, epsilon*num_calls"
      ]
    },
    {
      "cell_type": "code",
      "execution_count": 30,
      "metadata": {
        "id": "8EjgXFLdod3a"
      },
      "outputs": [],
      "source": [
        "def load_sub_basis(search_space, sub_dim=75, verbose_control='Yes'):\n",
        "  if search_space == 'sub':\n",
        "\n",
        "    if verbose_control == 'Yes':\n",
        "      print('Check if DCT basis available ...')\n",
        "\n",
        "    path = './2d_dct_basis_{}.npy'.format(sub_dim)\n",
        "    if os.path.exists(path):\n",
        "        if verbose_control == 'Yes':\n",
        "          print('Yes, we already have it ...')\n",
        "        sub_basis = np.load('2d_dct_basis_{}.npy'.format(sub_dim)).astype(np.float32)\n",
        "    else:\n",
        "        print('Generating dct basis ......')\n",
        "        sub_basis = generate_2d_dct_basis(sub_dim).astype(np.float32)\n",
        "        print('Done!\\n')\n",
        "\n",
        "    if torch.cuda.is_available():\n",
        "      sub_basis_torch = torch.from_numpy(sub_basis).cuda()\n",
        "    else:\n",
        "      sub_basis_torch = torch.from_numpy(sub_basis)\n",
        "\n",
        "    return sub_basis_torch"
      ]
    },
    {
      "cell_type": "code",
      "execution_count": 31,
      "metadata": {
        "id": "0z-TUt24Z3W2"
      },
      "outputs": [],
      "source": [
        "def GeoDA(target_model, x_b, x_0, iteration, q_opt, dist, image_fb, orig_label, lb, ub, query_rnd, grad_estimator_batch_size=40, verbose_control='Yes', sigma=0.0002, tol=0.0001, search_space='sub', q_max=None, image_name=None):\n",
        "\n",
        "    # Load sub basis\n",
        "    sub_basis_torch = load_sub_basis(search_space, verbose_control=verbose_control)\n",
        "\n",
        "    iteration_data = []  # List to store iteration data\n",
        "    q_num = 0\n",
        "    grad = 0\n",
        "\n",
        "    for i in range(iteration):\n",
        "\n",
        "        t1 = time.time()\n",
        "        random_vec_o = torch.randn(q_opt[i],3,224,224)\n",
        "\n",
        "        grad_oi, ratios, acc = black_grad_batch(target_model, x_b, q_opt[i], sigma, random_vec_o, grad_estimator_batch_size , orig_label, sub_basis_torch)\n",
        "        q_num = q_num + q_opt[i]\n",
        "        grad = grad_oi + grad\n",
        "        x_adv, qs, eps = go_to_boundary(target_model, orig_label, x_0, grad, x_b, dist, lb, ub)\n",
        "        q_num = q_num + qs\n",
        "        x_adv, bin_query = bin_search(target_model, orig_label, x_0, x_adv, tol)\n",
        "\n",
        "\n",
        "        q_num = q_num + bin_query\n",
        "\n",
        "        x_b = x_adv\n",
        "\n",
        "        t2 = time.time()\n",
        "        x_adv_inv = inv_tf(x_adv.cpu().numpy()[0,:,:,:].squeeze(), mean, std)\n",
        "\n",
        "        if dist == 'l1' or dist == 'l2':\n",
        "            dp = 'l2'\n",
        "            norm_p = linalg.norm(x_adv_inv-image_fb)\n",
        "\n",
        "\n",
        "        if dist == 'linf':\n",
        "            dp = dist\n",
        "\n",
        "            norm_p = np.max(abs(x_adv_inv-image_fb))\n",
        "\n",
        "        adv_label = torch.argmax(target_model.forward(Variable(x_adv, requires_grad=True)).data).item()\n",
        "        iteration_data.append(('geoda', i, dist, search_space, norm_p, t2 - t1, q_num + query_rnd, q_max, image_name, orig_label, adv_label, acc))\n",
        "\n",
        "        if verbose_control == 'Yes':\n",
        "            message = ' (took {:.5f} seconds)'.format(t2 - t1)\n",
        "            print('iteration -> ' + str(i) + str(message) + '     -- ' + dp + ' norm is -> ' + str(norm_p))\n",
        "\n",
        "    with open('log.csv', 'a', newline='') as file:\n",
        "        writer = csv.writer(file)\n",
        "        writer.writerows(iteration_data)\n",
        "\n",
        "\n",
        "    x_adv = clip_image_values(x_adv, lb, ub)\n",
        "\n",
        "    return x_adv, q_num, grad"
      ]
    },
    {
      "cell_type": "code",
      "execution_count": 32,
      "metadata": {
        "id": "V-PWfP3fZ3W3"
      },
      "outputs": [],
      "source": [
        "def opt_query_iteration(Nq, T, eta):\n",
        "\n",
        "    coefs=[eta**(-2*i/3) for i in range(0,T)]\n",
        "    coefs[0] = 1*coefs[0]\n",
        "\n",
        "    sum_coefs = sum(coefs)\n",
        "    opt_q=[round(Nq*coefs[i]/sum_coefs) for i in range(0,T)]\n",
        "\n",
        "    if opt_q[0]>80:\n",
        "        T = T + 1\n",
        "        opt_q, T = opt_query_iteration(Nq, T, eta)\n",
        "    elif opt_q[0]<50:\n",
        "        T = T - 1\n",
        "\n",
        "        opt_q, T = opt_query_iteration(Nq, T, eta)\n",
        "\n",
        "    return opt_q, T\n",
        "\n",
        "def uni_query(Nq, T, eta):\n",
        "\n",
        "    opt_q=[round(Nq/T) for i in range(0,T)]\n",
        "\n",
        "\n",
        "    return opt_q"
      ]
    },
    {
      "cell_type": "code",
      "execution_count": 5,
      "metadata": {
        "id": "W8gQubPpZ3W3"
      },
      "outputs": [],
      "source": [
        "def load_image(image, shape=(224, 224), data_format='channels_last'):\n",
        "\n",
        "    assert len(shape) == 2\n",
        "    assert data_format in ['channels_first', 'channels_last']\n",
        "\n",
        "    image = image.resize(shape)\n",
        "    image = np.asarray(image, dtype=np.float32)\n",
        "\n",
        "    image = image[:, :, :3]\n",
        "    assert image.shape == shape + (3,)\n",
        "    if data_format == 'channels_first':\n",
        "        image = np.transpose(image, (2, 0, 1))\n",
        "    return image"
      ]
    },
    {
      "cell_type": "code",
      "execution_count": 34,
      "metadata": {
        "id": "SHYfsztSZ3W3"
      },
      "outputs": [],
      "source": [
        "class SubNoise(nn.Module):\n",
        "    \"\"\"given subspace x and the number of noises, generate sub noises\"\"\"\n",
        "    # x is the subspace basis\n",
        "    def __init__(self, num_noises, x):\n",
        "        self.num_noises = num_noises\n",
        "        self.x = x\n",
        "        super(SubNoise, self).__init__()\n",
        "\n",
        "    def forward(self):\n",
        "\n",
        "\n",
        "        r = torch.zeros([224 ** 2, 3*self.num_noises], dtype=torch.float32)\n",
        "        if torch.cuda.is_available():\n",
        "            noise = torch.randn([self.x.shape[1], 3*self.num_noises], dtype=torch.float32).cuda()\n",
        "        else:\n",
        "            noise = torch.randn([self.x.shape[1], 3*self.num_noises], dtype=torch.float32)\n",
        "            \n",
        "        sub_noise = torch.transpose(torch.mm(self.x, noise), 0, 1)\n",
        "        r = sub_noise.view([ self.num_noises, 3, 224, 224])\n",
        "\n",
        "        r_list = r\n",
        "        return r_list"
      ]
    },
    {
      "cell_type": "markdown",
      "metadata": {
        "id": "vyk9s4VqZ3W4"
      },
      "source": [
        "## GeoDA"
      ]
    },
    {
      "cell_type": "code",
      "execution_count": null,
      "metadata": {
        "id": "2sVH9f-QZ3W5"
      },
      "outputs": [],
      "source": [
        "def run_geoDa(target_model, image_path, true_label, Q_max=1000, dist='l2', tol=0.0001, mu=0.6, search_space='sub', grad_estimator_batch_size=40, verbose_control='Yes'):\n",
        "\n",
        "  # Load image and tested\n",
        "  im_orig = Image.open(image_path)\n",
        "  im_sz = 224\n",
        "\n",
        "  if im_orig.mode != 'RGB':\n",
        "      im_orig = im_orig.convert('RGB')\n",
        "\n",
        "  im_orig = transforms.Compose([transforms.Resize((im_sz, im_sz))])(im_orig)\n",
        "\n",
        "  image_fb = load_image(im_orig, data_format='channels_last')\n",
        "  image_fb = image_fb / 255.  # because our model expects values in [0, 1]\n",
        "\n",
        "  # Bounds for Validity and Perceptibility\n",
        "  delta = 255\n",
        "  lb, ub = valid_bounds(im_orig, delta)\n",
        "\n",
        "  # Transform data\n",
        "  im = transforms.Compose([\n",
        "      transforms.CenterCrop(224),\n",
        "      transforms.ToTensor(),\n",
        "      transforms.Normalize(mean = mean,\n",
        "                          std = std)])(im_orig)\n",
        "\n",
        "  lb = transforms.Compose([transforms.ToTensor(), transforms.Normalize(mean=mean, std=std)])(lb)\n",
        "  ub = transforms.Compose([transforms.ToTensor(), transforms.Normalize(mean=mean, std=std)])(ub)\n",
        "\n",
        "  lb = lb[None, :, :, :].to(device)\n",
        "  ub = ub[None, :, :, :].to(device)\n",
        "\n",
        "  x_0 = im[None, :, :, :].to(device)\n",
        "\n",
        "  # Test image in model\n",
        "  orig_label = torch.argmax(target_model.forward(Variable(x_0, requires_grad=True)).data).item()\n",
        "\n",
        "  if true_label != int(orig_label):\n",
        "      if verbose_control == 'Yes':\n",
        "        print('Already missclassified... Lets try another one!')\n",
        "        print(f'Predicted label: {orig_label}')\n",
        "      with open('log.csv', 'a', newline='') as file:\n",
        "        writer = csv.writer(file)\n",
        "        writer.writerows([('geoda', None, dist, search_space, None, None, None, Q_max, image_path, true_label, orig_label, None)])\n",
        "      return\n",
        "\n",
        "\n",
        "  x0_inverse = inv_tf(x_0.cpu().numpy()[0,:,:,:].squeeze(), mean, std)\n",
        "  dif_norm = linalg.norm(x0_inverse-image_fb)\n",
        "\n",
        "\n",
        "  ###################################\n",
        "\n",
        "\n",
        "  x_random, query_random_1 = find_random_adversarial(target_model, orig_label, x_0, lb, ub)\n",
        "\n",
        "  x_rnd_inverse = inv_tf(x_random.cpu().numpy()[0,:,:,:].squeeze(), mean, std)\n",
        "\n",
        "\n",
        "  # Binary search\n",
        "  x_boundary, query_binsearch_2 = bin_search(target_model, orig_label, x_0, x_random, tol)\n",
        "  x_b = x_boundary\n",
        "\n",
        "\n",
        "  x_bin_inverse = inv_tf(x_boundary.cpu().numpy()[0,:,:,:].squeeze(), mean, std)\n",
        "\n",
        "\n",
        "  x_rnd_BA = np.swapaxes(x_bin_inverse, 0, 2)\n",
        "  x_rnd_BA = np.swapaxes(x_rnd_BA, 1, 2)\n",
        "\n",
        "  query_rnd = query_binsearch_2 + query_random_1\n",
        "\n",
        "\n",
        "  ###################################\n",
        "  # Run over iterations\n",
        "\n",
        "  iteration = round(Q_max/500)\n",
        "  q_opt_it = int(Q_max  - (iteration)*25)\n",
        "  q_opt_iter, iterate = opt_query_iteration(q_opt_it, iteration, mu )\n",
        "  q_opt_it = int(Q_max  - (iterate)*25)\n",
        "  q_opt_iter, iterate = opt_query_iteration(q_opt_it, iteration, mu )\n",
        "  if verbose_control == 'Yes':\n",
        "    print('#################################################################')\n",
        "    print('Start: The GeoDA will be run for:' + ' Iterations = ' + str(iterate) + ', Query = ' + str(Q_max) + ', Norm = ' + str(dist)+ ', Space = ' + str(search_space) )\n",
        "    print('#################################################################')\n",
        "\n",
        "\n",
        "  t3 = time.time()\n",
        "  x_adv, query_o, _ = GeoDA(target_model, x_b, x_0, iterate, q_opt_iter, dist, image_fb, orig_label, lb, ub, query_rnd,\n",
        "                                   grad_estimator_batch_size=grad_estimator_batch_size, search_space=search_space,\n",
        "                                   q_max=Q_max, image_name=image_path, verbose_control=verbose_control)\n",
        "  t4 = time.time()\n",
        "  message = ' took {:.5f} seconds'.format(t4 - t3)\n",
        "  qmessage = ' with query = ' + str(query_o + query_rnd)\n",
        "\n",
        "  x_opt_inverse = inv_tf(x_adv.cpu().numpy()[0,:,:,:].squeeze(), mean, std)\n",
        "\n",
        "\n",
        "  if verbose_control == 'Yes':\n",
        "    print('#################################################################')\n",
        "    print('End: The GeoDA algorithm' + message + qmessage )\n",
        "    print('#################################################################')\n",
        "\n",
        "  return image_fb, x_adv, x_opt_inverse"
      ]
    },
    {
      "cell_type": "markdown",
      "metadata": {
        "id": "iEOlXHd6xAI0"
      },
      "source": [
        "## Running GeoDa with Image Net"
      ]
    },
    {
      "cell_type": "markdown",
      "metadata": {
        "id": "FvxUiBsgSnIA"
      },
      "source": [
        "### Load Model"
      ]
    },
    {
      "cell_type": "code",
      "execution_count": null,
      "metadata": {
        "colab": {
          "base_uri": "https://localhost:8080/"
        },
        "id": "chKU5AMz5aNM",
        "outputId": "7d683a04-0e37-4240-f7a5-1a081304e62e"
      },
      "outputs": [],
      "source": [
        "# Check for cuda devices\n",
        "device = 'cuda' if torch.cuda.is_available() else 'cpu'\n",
        "\n",
        "# Load a pretrained model\n",
        "target_model = torch_models.resnet50(pretrained=True)\n",
        "target_model = target_model.to(device)\n",
        "target_model.eval()"
      ]
    },
    {
      "cell_type": "markdown",
      "metadata": {
        "id": "WaNPVV2VSpdz"
      },
      "source": [
        "### Run GeoDa"
      ]
    },
    {
      "cell_type": "code",
      "execution_count": null,
      "metadata": {},
      "outputs": [],
      "source": [
        "df_log = pd.read_csv('log.csv')"
      ]
    },
    {
      "cell_type": "code",
      "execution_count": null,
      "metadata": {
        "id": "jt4X29KWCrhj"
      },
      "outputs": [],
      "source": [
        "def test_all_validation_test(dist, Q_num, total_load):\n",
        "  progress_bar = tqdm(total=total_load)\n",
        "  progress_bar.set_description(f'Dist: {dist}; Q_num: {Q_num}')\n",
        "\n",
        "  path = './data/ILSVRC2012_img_val'\n",
        "  for file_name in os.listdir(path):\n",
        "    # Check if this experiment has already been done\n",
        "    if df_log[(df_log['distance'] == dist) & (df_log['query_max'] == Q_num) & (df_log['image'] == f'{path}/{file_name}') & (df_log['attack'] == 'geoda')].shape[0] > 0:\n",
        "      progress_bar.update(1)\n",
        "      continue\n",
        "\n",
        "    image_num = int(file_name[15:23])\n",
        "\n",
        "    ground_truth  = open(os.path.join('val.txt'), 'r').read().split('\\n')\n",
        "    ground_name_label = ground_truth[image_num-1]\n",
        "    true_label = int(ground_name_label.split()[1])\n",
        "\n",
        "    run_geoDa(target_model, f'{path}/{file_name}', true_label, Q_max=Q_num, dist=dist, verbose_control='No')\n",
        "\n",
        "    progress_bar.update(1)\n",
        "\n",
        "  progress_bar.close()"
      ]
    },
    {
      "cell_type": "code",
      "execution_count": null,
      "metadata": {
        "colab": {
          "base_uri": "https://localhost:8080/"
        },
        "id": "X_AqhptrjCy7",
        "outputId": "f7aabda2-9eac-485f-fb96-88f2f62fac55"
      },
      "outputs": [],
      "source": [
        "dist_avl = ['l2', 'linf']\n",
        "Q_num_avl = [1000, 5000, 20000]\n",
        "\n",
        "for dist in dist_avl:\n",
        "  for Q_num in Q_num_avl:\n",
        "    test_all_validation_test(dist, Q_num, 100)"
      ]
    },
    {
      "cell_type": "markdown",
      "metadata": {},
      "source": [
        "## Running GeoDA with Flowers102"
      ]
    },
    {
      "cell_type": "markdown",
      "metadata": {},
      "source": [
        "### Load model"
      ]
    },
    {
      "cell_type": "code",
      "execution_count": null,
      "metadata": {},
      "outputs": [],
      "source": [
        "# Check for cuda devices\n",
        "device = 'cuda' if torch.cuda.is_available() else 'cpu'\n",
        "\n",
        "# Load a pretrained model\n",
        "target_model = torch_models.resnet50(pretrained=True)\n",
        "target_model = target_model.to(device)\n",
        "target_model.eval()\n",
        "\n",
        "target_model = torch_models.resnet50(weights=ResNet50_Weights.IMAGENET1K_V1)\n",
        "total_feats = target_model.fc.in_features\n",
        "target_model.fc = nn.Linear(total_feats, 102)\n",
        "target_model.load_state_dict(torch.load('./Resnet50Flowers102/data/102flowers/model_resnet50Flower102.pt'))\n",
        "target_model = target_model.to(device)\n",
        "target_model.eval()"
      ]
    },
    {
      "cell_type": "markdown",
      "metadata": {},
      "source": [
        "### Running"
      ]
    },
    {
      "cell_type": "code",
      "execution_count": null,
      "metadata": {},
      "outputs": [],
      "source": [
        "df_log = pd.read_csv('log.csv')"
      ]
    },
    {
      "cell_type": "code",
      "execution_count": null,
      "metadata": {},
      "outputs": [],
      "source": [
        "def test_all_validation_test(dist, Q_num, total_load):\n",
        "  progress_bar = tqdm(total=total_load)\n",
        "  progress_bar.set_description(f'Dist: {dist}; Q_num: {Q_num}')\n",
        "\n",
        "  path = './data/Flowers102'\n",
        "  for file_name in os.listdir('./data/Flowers102'):\n",
        "    # Check if this experiment has already been done\n",
        "    if df_log[(df_log['distance'] == dist) & (df_log['query_max'] == Q_num) & (df_log['image'] == f'{path}/{file_name}') & (df_log['attack'] == 'geoda')].shape[0] > 0:\n",
        "      progress_bar.update(1)\n",
        "      continue\n",
        "\n",
        "    image_num = int(file_name[6:11])\n",
        "\n",
        "    ground_truth  = open(os.path.join('val_102flowers.txt'), 'r').read().split('\\n')\n",
        "    class_mapping_list  = open(os.path.join('class_mapping.txt'), 'r').read().split('\\n')\n",
        "\n",
        "    class_mapping = {}\n",
        "    for item in class_mapping_list:\n",
        "        pred_c= item.split()\n",
        "        class_mapping[int(pred_c[1])] = pred_c[0]\n",
        "    ground_name_label = ground_truth[image_num-1]\n",
        "    ground_label =  ground_name_label.split()[1]\n",
        "    true_label = int(class_mapping[int(ground_label)])\n",
        "\n",
        "    run_geoDa(target_model, f'{path}/{file_name}', true_label, Q_max=Q_num, dist=dist, verbose_control='No')\n",
        "\n",
        "    progress_bar.update(1)\n",
        "\n",
        "  progress_bar.close()"
      ]
    },
    {
      "cell_type": "code",
      "execution_count": null,
      "metadata": {},
      "outputs": [],
      "source": [
        "dist_avl = ['l2', 'linf']\n",
        "Q_num_avl = [1000, 5000, 20000]\n",
        "\n",
        "for dist in dist_avl:\n",
        "  for Q_num in Q_num_avl:\n",
        "    test_all_validation_test(dist, Q_num, 100)"
      ]
    },
    {
      "cell_type": "markdown",
      "metadata": {
        "id": "1Ux_NVaW3Pc3"
      },
      "source": [
        "## Other Attacks"
      ]
    },
    {
      "cell_type": "code",
      "execution_count": 6,
      "metadata": {
        "id": "-tHB-mugRtFm"
      },
      "outputs": [],
      "source": [
        "import foolbox as fb\n",
        "from foolbox import PyTorchModel, accuracy\n",
        "from foolbox.attacks import HopSkipJumpAttack"
      ]
    },
    {
      "cell_type": "markdown",
      "metadata": {},
      "source": [
        "### HopSkipJumpAttack"
      ]
    },
    {
      "cell_type": "markdown",
      "metadata": {},
      "source": [
        "#### Image Net"
      ]
    },
    {
      "cell_type": "markdown",
      "metadata": {},
      "source": [
        "##### Load model"
      ]
    },
    {
      "cell_type": "code",
      "execution_count": null,
      "metadata": {},
      "outputs": [
        {
          "name": "stderr",
          "output_type": "stream",
          "text": [
            "/Users/mauriciosightman/Library/Python/3.9/lib/python/site-packages/torchvision/models/_utils.py:208: UserWarning: The parameter 'pretrained' is deprecated since 0.13 and may be removed in the future, please use 'weights' instead.\n",
            "  warnings.warn(\n",
            "/Users/mauriciosightman/Library/Python/3.9/lib/python/site-packages/torchvision/models/_utils.py:223: UserWarning: Arguments other than a weight enum or `None` for 'weights' are deprecated since 0.13 and may be removed in the future. The current behavior is equivalent to passing `weights=ResNet50_Weights.IMAGENET1K_V1`. You can also use `weights=ResNet50_Weights.DEFAULT` to get the most up-to-date weights.\n",
            "  warnings.warn(msg)\n"
          ]
        },
        {
          "data": {
            "text/plain": [
              "ResNet(\n",
              "  (conv1): Conv2d(3, 64, kernel_size=(7, 7), stride=(2, 2), padding=(3, 3), bias=False)\n",
              "  (bn1): BatchNorm2d(64, eps=1e-05, momentum=0.1, affine=True, track_running_stats=True)\n",
              "  (relu): ReLU(inplace=True)\n",
              "  (maxpool): MaxPool2d(kernel_size=3, stride=2, padding=1, dilation=1, ceil_mode=False)\n",
              "  (layer1): Sequential(\n",
              "    (0): Bottleneck(\n",
              "      (conv1): Conv2d(64, 64, kernel_size=(1, 1), stride=(1, 1), bias=False)\n",
              "      (bn1): BatchNorm2d(64, eps=1e-05, momentum=0.1, affine=True, track_running_stats=True)\n",
              "      (conv2): Conv2d(64, 64, kernel_size=(3, 3), stride=(1, 1), padding=(1, 1), bias=False)\n",
              "      (bn2): BatchNorm2d(64, eps=1e-05, momentum=0.1, affine=True, track_running_stats=True)\n",
              "      (conv3): Conv2d(64, 256, kernel_size=(1, 1), stride=(1, 1), bias=False)\n",
              "      (bn3): BatchNorm2d(256, eps=1e-05, momentum=0.1, affine=True, track_running_stats=True)\n",
              "      (relu): ReLU(inplace=True)\n",
              "      (downsample): Sequential(\n",
              "        (0): Conv2d(64, 256, kernel_size=(1, 1), stride=(1, 1), bias=False)\n",
              "        (1): BatchNorm2d(256, eps=1e-05, momentum=0.1, affine=True, track_running_stats=True)\n",
              "      )\n",
              "    )\n",
              "    (1): Bottleneck(\n",
              "      (conv1): Conv2d(256, 64, kernel_size=(1, 1), stride=(1, 1), bias=False)\n",
              "      (bn1): BatchNorm2d(64, eps=1e-05, momentum=0.1, affine=True, track_running_stats=True)\n",
              "      (conv2): Conv2d(64, 64, kernel_size=(3, 3), stride=(1, 1), padding=(1, 1), bias=False)\n",
              "      (bn2): BatchNorm2d(64, eps=1e-05, momentum=0.1, affine=True, track_running_stats=True)\n",
              "      (conv3): Conv2d(64, 256, kernel_size=(1, 1), stride=(1, 1), bias=False)\n",
              "      (bn3): BatchNorm2d(256, eps=1e-05, momentum=0.1, affine=True, track_running_stats=True)\n",
              "      (relu): ReLU(inplace=True)\n",
              "    )\n",
              "    (2): Bottleneck(\n",
              "      (conv1): Conv2d(256, 64, kernel_size=(1, 1), stride=(1, 1), bias=False)\n",
              "      (bn1): BatchNorm2d(64, eps=1e-05, momentum=0.1, affine=True, track_running_stats=True)\n",
              "      (conv2): Conv2d(64, 64, kernel_size=(3, 3), stride=(1, 1), padding=(1, 1), bias=False)\n",
              "      (bn2): BatchNorm2d(64, eps=1e-05, momentum=0.1, affine=True, track_running_stats=True)\n",
              "      (conv3): Conv2d(64, 256, kernel_size=(1, 1), stride=(1, 1), bias=False)\n",
              "      (bn3): BatchNorm2d(256, eps=1e-05, momentum=0.1, affine=True, track_running_stats=True)\n",
              "      (relu): ReLU(inplace=True)\n",
              "    )\n",
              "  )\n",
              "  (layer2): Sequential(\n",
              "    (0): Bottleneck(\n",
              "      (conv1): Conv2d(256, 128, kernel_size=(1, 1), stride=(1, 1), bias=False)\n",
              "      (bn1): BatchNorm2d(128, eps=1e-05, momentum=0.1, affine=True, track_running_stats=True)\n",
              "      (conv2): Conv2d(128, 128, kernel_size=(3, 3), stride=(2, 2), padding=(1, 1), bias=False)\n",
              "      (bn2): BatchNorm2d(128, eps=1e-05, momentum=0.1, affine=True, track_running_stats=True)\n",
              "      (conv3): Conv2d(128, 512, kernel_size=(1, 1), stride=(1, 1), bias=False)\n",
              "      (bn3): BatchNorm2d(512, eps=1e-05, momentum=0.1, affine=True, track_running_stats=True)\n",
              "      (relu): ReLU(inplace=True)\n",
              "      (downsample): Sequential(\n",
              "        (0): Conv2d(256, 512, kernel_size=(1, 1), stride=(2, 2), bias=False)\n",
              "        (1): BatchNorm2d(512, eps=1e-05, momentum=0.1, affine=True, track_running_stats=True)\n",
              "      )\n",
              "    )\n",
              "    (1): Bottleneck(\n",
              "      (conv1): Conv2d(512, 128, kernel_size=(1, 1), stride=(1, 1), bias=False)\n",
              "      (bn1): BatchNorm2d(128, eps=1e-05, momentum=0.1, affine=True, track_running_stats=True)\n",
              "      (conv2): Conv2d(128, 128, kernel_size=(3, 3), stride=(1, 1), padding=(1, 1), bias=False)\n",
              "      (bn2): BatchNorm2d(128, eps=1e-05, momentum=0.1, affine=True, track_running_stats=True)\n",
              "      (conv3): Conv2d(128, 512, kernel_size=(1, 1), stride=(1, 1), bias=False)\n",
              "      (bn3): BatchNorm2d(512, eps=1e-05, momentum=0.1, affine=True, track_running_stats=True)\n",
              "      (relu): ReLU(inplace=True)\n",
              "    )\n",
              "    (2): Bottleneck(\n",
              "      (conv1): Conv2d(512, 128, kernel_size=(1, 1), stride=(1, 1), bias=False)\n",
              "      (bn1): BatchNorm2d(128, eps=1e-05, momentum=0.1, affine=True, track_running_stats=True)\n",
              "      (conv2): Conv2d(128, 128, kernel_size=(3, 3), stride=(1, 1), padding=(1, 1), bias=False)\n",
              "      (bn2): BatchNorm2d(128, eps=1e-05, momentum=0.1, affine=True, track_running_stats=True)\n",
              "      (conv3): Conv2d(128, 512, kernel_size=(1, 1), stride=(1, 1), bias=False)\n",
              "      (bn3): BatchNorm2d(512, eps=1e-05, momentum=0.1, affine=True, track_running_stats=True)\n",
              "      (relu): ReLU(inplace=True)\n",
              "    )\n",
              "    (3): Bottleneck(\n",
              "      (conv1): Conv2d(512, 128, kernel_size=(1, 1), stride=(1, 1), bias=False)\n",
              "      (bn1): BatchNorm2d(128, eps=1e-05, momentum=0.1, affine=True, track_running_stats=True)\n",
              "      (conv2): Conv2d(128, 128, kernel_size=(3, 3), stride=(1, 1), padding=(1, 1), bias=False)\n",
              "      (bn2): BatchNorm2d(128, eps=1e-05, momentum=0.1, affine=True, track_running_stats=True)\n",
              "      (conv3): Conv2d(128, 512, kernel_size=(1, 1), stride=(1, 1), bias=False)\n",
              "      (bn3): BatchNorm2d(512, eps=1e-05, momentum=0.1, affine=True, track_running_stats=True)\n",
              "      (relu): ReLU(inplace=True)\n",
              "    )\n",
              "  )\n",
              "  (layer3): Sequential(\n",
              "    (0): Bottleneck(\n",
              "      (conv1): Conv2d(512, 256, kernel_size=(1, 1), stride=(1, 1), bias=False)\n",
              "      (bn1): BatchNorm2d(256, eps=1e-05, momentum=0.1, affine=True, track_running_stats=True)\n",
              "      (conv2): Conv2d(256, 256, kernel_size=(3, 3), stride=(2, 2), padding=(1, 1), bias=False)\n",
              "      (bn2): BatchNorm2d(256, eps=1e-05, momentum=0.1, affine=True, track_running_stats=True)\n",
              "      (conv3): Conv2d(256, 1024, kernel_size=(1, 1), stride=(1, 1), bias=False)\n",
              "      (bn3): BatchNorm2d(1024, eps=1e-05, momentum=0.1, affine=True, track_running_stats=True)\n",
              "      (relu): ReLU(inplace=True)\n",
              "      (downsample): Sequential(\n",
              "        (0): Conv2d(512, 1024, kernel_size=(1, 1), stride=(2, 2), bias=False)\n",
              "        (1): BatchNorm2d(1024, eps=1e-05, momentum=0.1, affine=True, track_running_stats=True)\n",
              "      )\n",
              "    )\n",
              "    (1): Bottleneck(\n",
              "      (conv1): Conv2d(1024, 256, kernel_size=(1, 1), stride=(1, 1), bias=False)\n",
              "      (bn1): BatchNorm2d(256, eps=1e-05, momentum=0.1, affine=True, track_running_stats=True)\n",
              "      (conv2): Conv2d(256, 256, kernel_size=(3, 3), stride=(1, 1), padding=(1, 1), bias=False)\n",
              "      (bn2): BatchNorm2d(256, eps=1e-05, momentum=0.1, affine=True, track_running_stats=True)\n",
              "      (conv3): Conv2d(256, 1024, kernel_size=(1, 1), stride=(1, 1), bias=False)\n",
              "      (bn3): BatchNorm2d(1024, eps=1e-05, momentum=0.1, affine=True, track_running_stats=True)\n",
              "      (relu): ReLU(inplace=True)\n",
              "    )\n",
              "    (2): Bottleneck(\n",
              "      (conv1): Conv2d(1024, 256, kernel_size=(1, 1), stride=(1, 1), bias=False)\n",
              "      (bn1): BatchNorm2d(256, eps=1e-05, momentum=0.1, affine=True, track_running_stats=True)\n",
              "      (conv2): Conv2d(256, 256, kernel_size=(3, 3), stride=(1, 1), padding=(1, 1), bias=False)\n",
              "      (bn2): BatchNorm2d(256, eps=1e-05, momentum=0.1, affine=True, track_running_stats=True)\n",
              "      (conv3): Conv2d(256, 1024, kernel_size=(1, 1), stride=(1, 1), bias=False)\n",
              "      (bn3): BatchNorm2d(1024, eps=1e-05, momentum=0.1, affine=True, track_running_stats=True)\n",
              "      (relu): ReLU(inplace=True)\n",
              "    )\n",
              "    (3): Bottleneck(\n",
              "      (conv1): Conv2d(1024, 256, kernel_size=(1, 1), stride=(1, 1), bias=False)\n",
              "      (bn1): BatchNorm2d(256, eps=1e-05, momentum=0.1, affine=True, track_running_stats=True)\n",
              "      (conv2): Conv2d(256, 256, kernel_size=(3, 3), stride=(1, 1), padding=(1, 1), bias=False)\n",
              "      (bn2): BatchNorm2d(256, eps=1e-05, momentum=0.1, affine=True, track_running_stats=True)\n",
              "      (conv3): Conv2d(256, 1024, kernel_size=(1, 1), stride=(1, 1), bias=False)\n",
              "      (bn3): BatchNorm2d(1024, eps=1e-05, momentum=0.1, affine=True, track_running_stats=True)\n",
              "      (relu): ReLU(inplace=True)\n",
              "    )\n",
              "    (4): Bottleneck(\n",
              "      (conv1): Conv2d(1024, 256, kernel_size=(1, 1), stride=(1, 1), bias=False)\n",
              "      (bn1): BatchNorm2d(256, eps=1e-05, momentum=0.1, affine=True, track_running_stats=True)\n",
              "      (conv2): Conv2d(256, 256, kernel_size=(3, 3), stride=(1, 1), padding=(1, 1), bias=False)\n",
              "      (bn2): BatchNorm2d(256, eps=1e-05, momentum=0.1, affine=True, track_running_stats=True)\n",
              "      (conv3): Conv2d(256, 1024, kernel_size=(1, 1), stride=(1, 1), bias=False)\n",
              "      (bn3): BatchNorm2d(1024, eps=1e-05, momentum=0.1, affine=True, track_running_stats=True)\n",
              "      (relu): ReLU(inplace=True)\n",
              "    )\n",
              "    (5): Bottleneck(\n",
              "      (conv1): Conv2d(1024, 256, kernel_size=(1, 1), stride=(1, 1), bias=False)\n",
              "      (bn1): BatchNorm2d(256, eps=1e-05, momentum=0.1, affine=True, track_running_stats=True)\n",
              "      (conv2): Conv2d(256, 256, kernel_size=(3, 3), stride=(1, 1), padding=(1, 1), bias=False)\n",
              "      (bn2): BatchNorm2d(256, eps=1e-05, momentum=0.1, affine=True, track_running_stats=True)\n",
              "      (conv3): Conv2d(256, 1024, kernel_size=(1, 1), stride=(1, 1), bias=False)\n",
              "      (bn3): BatchNorm2d(1024, eps=1e-05, momentum=0.1, affine=True, track_running_stats=True)\n",
              "      (relu): ReLU(inplace=True)\n",
              "    )\n",
              "  )\n",
              "  (layer4): Sequential(\n",
              "    (0): Bottleneck(\n",
              "      (conv1): Conv2d(1024, 512, kernel_size=(1, 1), stride=(1, 1), bias=False)\n",
              "      (bn1): BatchNorm2d(512, eps=1e-05, momentum=0.1, affine=True, track_running_stats=True)\n",
              "      (conv2): Conv2d(512, 512, kernel_size=(3, 3), stride=(2, 2), padding=(1, 1), bias=False)\n",
              "      (bn2): BatchNorm2d(512, eps=1e-05, momentum=0.1, affine=True, track_running_stats=True)\n",
              "      (conv3): Conv2d(512, 2048, kernel_size=(1, 1), stride=(1, 1), bias=False)\n",
              "      (bn3): BatchNorm2d(2048, eps=1e-05, momentum=0.1, affine=True, track_running_stats=True)\n",
              "      (relu): ReLU(inplace=True)\n",
              "      (downsample): Sequential(\n",
              "        (0): Conv2d(1024, 2048, kernel_size=(1, 1), stride=(2, 2), bias=False)\n",
              "        (1): BatchNorm2d(2048, eps=1e-05, momentum=0.1, affine=True, track_running_stats=True)\n",
              "      )\n",
              "    )\n",
              "    (1): Bottleneck(\n",
              "      (conv1): Conv2d(2048, 512, kernel_size=(1, 1), stride=(1, 1), bias=False)\n",
              "      (bn1): BatchNorm2d(512, eps=1e-05, momentum=0.1, affine=True, track_running_stats=True)\n",
              "      (conv2): Conv2d(512, 512, kernel_size=(3, 3), stride=(1, 1), padding=(1, 1), bias=False)\n",
              "      (bn2): BatchNorm2d(512, eps=1e-05, momentum=0.1, affine=True, track_running_stats=True)\n",
              "      (conv3): Conv2d(512, 2048, kernel_size=(1, 1), stride=(1, 1), bias=False)\n",
              "      (bn3): BatchNorm2d(2048, eps=1e-05, momentum=0.1, affine=True, track_running_stats=True)\n",
              "      (relu): ReLU(inplace=True)\n",
              "    )\n",
              "    (2): Bottleneck(\n",
              "      (conv1): Conv2d(2048, 512, kernel_size=(1, 1), stride=(1, 1), bias=False)\n",
              "      (bn1): BatchNorm2d(512, eps=1e-05, momentum=0.1, affine=True, track_running_stats=True)\n",
              "      (conv2): Conv2d(512, 512, kernel_size=(3, 3), stride=(1, 1), padding=(1, 1), bias=False)\n",
              "      (bn2): BatchNorm2d(512, eps=1e-05, momentum=0.1, affine=True, track_running_stats=True)\n",
              "      (conv3): Conv2d(512, 2048, kernel_size=(1, 1), stride=(1, 1), bias=False)\n",
              "      (bn3): BatchNorm2d(2048, eps=1e-05, momentum=0.1, affine=True, track_running_stats=True)\n",
              "      (relu): ReLU(inplace=True)\n",
              "    )\n",
              "  )\n",
              "  (avgpool): AdaptiveAvgPool2d(output_size=(1, 1))\n",
              "  (fc): Linear(in_features=2048, out_features=1000, bias=True)\n",
              ")"
            ]
          },
          "execution_count": 36,
          "metadata": {},
          "output_type": "execute_result"
        }
      ],
      "source": [
        "# Check for cuda devices\n",
        "device = 'cuda' if torch.cuda.is_available() else 'cpu'\n",
        "\n",
        "# Load a pretrained model\n",
        "target_model = torch_models.resnet50(pretrained=True)\n",
        "target_model = target_model.to(device)\n",
        "target_model.eval()"
      ]
    },
    {
      "cell_type": "markdown",
      "metadata": {},
      "source": [
        "##### Running"
      ]
    },
    {
      "cell_type": "code",
      "execution_count": null,
      "metadata": {
        "id": "84p0PuV7RtFm"
      },
      "outputs": [],
      "source": [
        "# Preprocessamento: especifique como os dados devem ser processados (dependendo do seu modelo)\n",
        "preprocessing = dict(mean=mean, std=std, axis=-3)\n",
        "\n",
        "# Envolva o modelo com o FoolBox\n",
        "fmodel = PyTorchModel(target_model, bounds=(0, 1), preprocessing=preprocessing)"
      ]
    },
    {
      "cell_type": "code",
      "execution_count": null,
      "metadata": {},
      "outputs": [],
      "source": [
        "df_log = pd.read_csv('log.csv')"
      ]
    },
    {
      "cell_type": "code",
      "execution_count": null,
      "metadata": {
        "id": "dOd_LLY9BkI1"
      },
      "outputs": [],
      "source": [
        "def runHopSkipJumpAttack(dist, Q_max, iterations, total_load):\n",
        "  # Cria o ataque HopSkipJump\n",
        "  attack = HopSkipJumpAttack(constraint=dist, steps=iterations, max_gradient_eval_steps=int(Q_max/iterations))\n",
        "\n",
        "\n",
        "  progress_bar = tqdm(total=total_load)\n",
        "  progress_bar.set_description(f'Dist: {dist}; Q_max: {Q_max}')\n",
        "\n",
        "  path = './data/ILSVRC2012_img_val'\n",
        "  for file_name in os.listdir(path):\n",
        "    # Check if this experiment has already been done\n",
        "    if df_log[(df_log['distance'] == dist) & (df_log['query_max'] == Q_max) & (df_log['image'] == f'{path}/{file_name}') & (df_log['attack'] == 'HopSkipJumpAttack')].shape[0] > 0:\n",
        "      progress_bar.update(1)\n",
        "      continue\n",
        "\n",
        "    images_path = []\n",
        "    images_fb = []\n",
        "    labels = []\n",
        "\n",
        "    images_path.append(f'{path}/{file_name}')\n",
        "\n",
        "    image_num = int(file_name[15:23])\n",
        "\n",
        "    # Carregar labels\n",
        "    ground_truth  = open(os.path.join('val.txt'), 'r').read().split('\\n')\n",
        "    ground_name_label = ground_truth[image_num-1]\n",
        "    true_label = int(ground_name_label.split()[1])\n",
        "    labels.append(true_label)\n",
        "\n",
        "    # Carregar imagens\n",
        "    im_orig = Image.open(f'{path}/{file_name}')\n",
        "    im_orig = transforms.Compose([transforms.Resize((224, 224))])(im_orig)\n",
        "    if im_orig.mode != 'RGB':\n",
        "        im_orig = im_orig.convert('RGB')\n",
        "    image_fb = load_image(im_orig, data_format='channels_first')\n",
        "    image_fb = image_fb / 255.\n",
        "    images_fb.append(image_fb)\n",
        "\n",
        "    # Converter para tensores    \n",
        "    images_np = np.stack(images_fb)\n",
        "    images = torch.tensor(images_np).to(device)\n",
        "    labels = torch.tensor(labels).to(device)\n",
        "    criterion = fb.criteria.Misclassification(labels)\n",
        "\n",
        "    # Rodar algoritmo\n",
        "    t1 = time.time()\n",
        "    advs, _, is_adv = attack(fmodel, images, criterion, epsilons=0.03)\n",
        "    t2 = time.time()\n",
        "\n",
        "    advs_pred = fmodel(advs)\n",
        "    acc = accuracy(fmodel, advs, labels)\n",
        "\n",
        "    if dist == 'l1' or dist == 'l2':\n",
        "      norms_p = fb.distances.l2(images, advs)\n",
        "    if dist == 'linf':\n",
        "      norms_p = fb.distances.inf(images, advs)\n",
        "\n",
        "    with open('log.csv', 'a', newline='') as file:\n",
        "      writer = csv.writer(file)\n",
        "\n",
        "      for i in range(len(images_path)):\n",
        "\n",
        "        image_path = images_path[i]\n",
        "        adv_label = torch.argmax(advs_pred[i]).item()\n",
        "        true_label = labels[i].item()\n",
        "        norm_p = norms_p[i].item()\n",
        "\n",
        "        writer.writerows([['HopSkipJumpAttack', iterations, dist, None, norm_p, t2 - t1, Q_max, Q_max, image_path, true_label, adv_label, acc]])\n",
        "      \n",
        "    progress_bar.update(1)\n",
        "\n",
        "  progress_bar.close()\n",
        "  "
      ]
    },
    {
      "cell_type": "code",
      "execution_count": null,
      "metadata": {
        "colab": {
          "base_uri": "https://localhost:8080/"
        },
        "id": "ZHWE65Xn0W-C",
        "outputId": "983e2508-3110-4263-a265-81649d8be1d4"
      },
      "outputs": [],
      "source": [
        "dist_avl = ['l2', 'linf']\n",
        "Q_num_avl = [1000]\n",
        "intervals = [6, 17, 42]\n",
        "\n",
        "for dist in dist_avl:\n",
        "  for i, Q_num in enumerate(Q_num_avl):\n",
        "    runHopSkipJumpAttack(dist, Q_num, intervals[i], TOTAL_IMAGES_TO_USE)"
      ]
    },
    {
      "cell_type": "markdown",
      "metadata": {},
      "source": [
        "#### Flowers 102"
      ]
    },
    {
      "cell_type": "markdown",
      "metadata": {},
      "source": [
        "##### Load Model"
      ]
    },
    {
      "cell_type": "code",
      "execution_count": 8,
      "metadata": {},
      "outputs": [
        {
          "data": {
            "text/plain": [
              "ResNet(\n",
              "  (conv1): Conv2d(3, 64, kernel_size=(7, 7), stride=(2, 2), padding=(3, 3), bias=False)\n",
              "  (bn1): BatchNorm2d(64, eps=1e-05, momentum=0.1, affine=True, track_running_stats=True)\n",
              "  (relu): ReLU(inplace=True)\n",
              "  (maxpool): MaxPool2d(kernel_size=3, stride=2, padding=1, dilation=1, ceil_mode=False)\n",
              "  (layer1): Sequential(\n",
              "    (0): Bottleneck(\n",
              "      (conv1): Conv2d(64, 64, kernel_size=(1, 1), stride=(1, 1), bias=False)\n",
              "      (bn1): BatchNorm2d(64, eps=1e-05, momentum=0.1, affine=True, track_running_stats=True)\n",
              "      (conv2): Conv2d(64, 64, kernel_size=(3, 3), stride=(1, 1), padding=(1, 1), bias=False)\n",
              "      (bn2): BatchNorm2d(64, eps=1e-05, momentum=0.1, affine=True, track_running_stats=True)\n",
              "      (conv3): Conv2d(64, 256, kernel_size=(1, 1), stride=(1, 1), bias=False)\n",
              "      (bn3): BatchNorm2d(256, eps=1e-05, momentum=0.1, affine=True, track_running_stats=True)\n",
              "      (relu): ReLU(inplace=True)\n",
              "      (downsample): Sequential(\n",
              "        (0): Conv2d(64, 256, kernel_size=(1, 1), stride=(1, 1), bias=False)\n",
              "        (1): BatchNorm2d(256, eps=1e-05, momentum=0.1, affine=True, track_running_stats=True)\n",
              "      )\n",
              "    )\n",
              "    (1): Bottleneck(\n",
              "      (conv1): Conv2d(256, 64, kernel_size=(1, 1), stride=(1, 1), bias=False)\n",
              "      (bn1): BatchNorm2d(64, eps=1e-05, momentum=0.1, affine=True, track_running_stats=True)\n",
              "      (conv2): Conv2d(64, 64, kernel_size=(3, 3), stride=(1, 1), padding=(1, 1), bias=False)\n",
              "      (bn2): BatchNorm2d(64, eps=1e-05, momentum=0.1, affine=True, track_running_stats=True)\n",
              "      (conv3): Conv2d(64, 256, kernel_size=(1, 1), stride=(1, 1), bias=False)\n",
              "      (bn3): BatchNorm2d(256, eps=1e-05, momentum=0.1, affine=True, track_running_stats=True)\n",
              "      (relu): ReLU(inplace=True)\n",
              "    )\n",
              "    (2): Bottleneck(\n",
              "      (conv1): Conv2d(256, 64, kernel_size=(1, 1), stride=(1, 1), bias=False)\n",
              "      (bn1): BatchNorm2d(64, eps=1e-05, momentum=0.1, affine=True, track_running_stats=True)\n",
              "      (conv2): Conv2d(64, 64, kernel_size=(3, 3), stride=(1, 1), padding=(1, 1), bias=False)\n",
              "      (bn2): BatchNorm2d(64, eps=1e-05, momentum=0.1, affine=True, track_running_stats=True)\n",
              "      (conv3): Conv2d(64, 256, kernel_size=(1, 1), stride=(1, 1), bias=False)\n",
              "      (bn3): BatchNorm2d(256, eps=1e-05, momentum=0.1, affine=True, track_running_stats=True)\n",
              "      (relu): ReLU(inplace=True)\n",
              "    )\n",
              "  )\n",
              "  (layer2): Sequential(\n",
              "    (0): Bottleneck(\n",
              "      (conv1): Conv2d(256, 128, kernel_size=(1, 1), stride=(1, 1), bias=False)\n",
              "      (bn1): BatchNorm2d(128, eps=1e-05, momentum=0.1, affine=True, track_running_stats=True)\n",
              "      (conv2): Conv2d(128, 128, kernel_size=(3, 3), stride=(2, 2), padding=(1, 1), bias=False)\n",
              "      (bn2): BatchNorm2d(128, eps=1e-05, momentum=0.1, affine=True, track_running_stats=True)\n",
              "      (conv3): Conv2d(128, 512, kernel_size=(1, 1), stride=(1, 1), bias=False)\n",
              "      (bn3): BatchNorm2d(512, eps=1e-05, momentum=0.1, affine=True, track_running_stats=True)\n",
              "      (relu): ReLU(inplace=True)\n",
              "      (downsample): Sequential(\n",
              "        (0): Conv2d(256, 512, kernel_size=(1, 1), stride=(2, 2), bias=False)\n",
              "        (1): BatchNorm2d(512, eps=1e-05, momentum=0.1, affine=True, track_running_stats=True)\n",
              "      )\n",
              "    )\n",
              "    (1): Bottleneck(\n",
              "      (conv1): Conv2d(512, 128, kernel_size=(1, 1), stride=(1, 1), bias=False)\n",
              "      (bn1): BatchNorm2d(128, eps=1e-05, momentum=0.1, affine=True, track_running_stats=True)\n",
              "      (conv2): Conv2d(128, 128, kernel_size=(3, 3), stride=(1, 1), padding=(1, 1), bias=False)\n",
              "      (bn2): BatchNorm2d(128, eps=1e-05, momentum=0.1, affine=True, track_running_stats=True)\n",
              "      (conv3): Conv2d(128, 512, kernel_size=(1, 1), stride=(1, 1), bias=False)\n",
              "      (bn3): BatchNorm2d(512, eps=1e-05, momentum=0.1, affine=True, track_running_stats=True)\n",
              "      (relu): ReLU(inplace=True)\n",
              "    )\n",
              "    (2): Bottleneck(\n",
              "      (conv1): Conv2d(512, 128, kernel_size=(1, 1), stride=(1, 1), bias=False)\n",
              "      (bn1): BatchNorm2d(128, eps=1e-05, momentum=0.1, affine=True, track_running_stats=True)\n",
              "      (conv2): Conv2d(128, 128, kernel_size=(3, 3), stride=(1, 1), padding=(1, 1), bias=False)\n",
              "      (bn2): BatchNorm2d(128, eps=1e-05, momentum=0.1, affine=True, track_running_stats=True)\n",
              "      (conv3): Conv2d(128, 512, kernel_size=(1, 1), stride=(1, 1), bias=False)\n",
              "      (bn3): BatchNorm2d(512, eps=1e-05, momentum=0.1, affine=True, track_running_stats=True)\n",
              "      (relu): ReLU(inplace=True)\n",
              "    )\n",
              "    (3): Bottleneck(\n",
              "      (conv1): Conv2d(512, 128, kernel_size=(1, 1), stride=(1, 1), bias=False)\n",
              "      (bn1): BatchNorm2d(128, eps=1e-05, momentum=0.1, affine=True, track_running_stats=True)\n",
              "      (conv2): Conv2d(128, 128, kernel_size=(3, 3), stride=(1, 1), padding=(1, 1), bias=False)\n",
              "      (bn2): BatchNorm2d(128, eps=1e-05, momentum=0.1, affine=True, track_running_stats=True)\n",
              "      (conv3): Conv2d(128, 512, kernel_size=(1, 1), stride=(1, 1), bias=False)\n",
              "      (bn3): BatchNorm2d(512, eps=1e-05, momentum=0.1, affine=True, track_running_stats=True)\n",
              "      (relu): ReLU(inplace=True)\n",
              "    )\n",
              "  )\n",
              "  (layer3): Sequential(\n",
              "    (0): Bottleneck(\n",
              "      (conv1): Conv2d(512, 256, kernel_size=(1, 1), stride=(1, 1), bias=False)\n",
              "      (bn1): BatchNorm2d(256, eps=1e-05, momentum=0.1, affine=True, track_running_stats=True)\n",
              "      (conv2): Conv2d(256, 256, kernel_size=(3, 3), stride=(2, 2), padding=(1, 1), bias=False)\n",
              "      (bn2): BatchNorm2d(256, eps=1e-05, momentum=0.1, affine=True, track_running_stats=True)\n",
              "      (conv3): Conv2d(256, 1024, kernel_size=(1, 1), stride=(1, 1), bias=False)\n",
              "      (bn3): BatchNorm2d(1024, eps=1e-05, momentum=0.1, affine=True, track_running_stats=True)\n",
              "      (relu): ReLU(inplace=True)\n",
              "      (downsample): Sequential(\n",
              "        (0): Conv2d(512, 1024, kernel_size=(1, 1), stride=(2, 2), bias=False)\n",
              "        (1): BatchNorm2d(1024, eps=1e-05, momentum=0.1, affine=True, track_running_stats=True)\n",
              "      )\n",
              "    )\n",
              "    (1): Bottleneck(\n",
              "      (conv1): Conv2d(1024, 256, kernel_size=(1, 1), stride=(1, 1), bias=False)\n",
              "      (bn1): BatchNorm2d(256, eps=1e-05, momentum=0.1, affine=True, track_running_stats=True)\n",
              "      (conv2): Conv2d(256, 256, kernel_size=(3, 3), stride=(1, 1), padding=(1, 1), bias=False)\n",
              "      (bn2): BatchNorm2d(256, eps=1e-05, momentum=0.1, affine=True, track_running_stats=True)\n",
              "      (conv3): Conv2d(256, 1024, kernel_size=(1, 1), stride=(1, 1), bias=False)\n",
              "      (bn3): BatchNorm2d(1024, eps=1e-05, momentum=0.1, affine=True, track_running_stats=True)\n",
              "      (relu): ReLU(inplace=True)\n",
              "    )\n",
              "    (2): Bottleneck(\n",
              "      (conv1): Conv2d(1024, 256, kernel_size=(1, 1), stride=(1, 1), bias=False)\n",
              "      (bn1): BatchNorm2d(256, eps=1e-05, momentum=0.1, affine=True, track_running_stats=True)\n",
              "      (conv2): Conv2d(256, 256, kernel_size=(3, 3), stride=(1, 1), padding=(1, 1), bias=False)\n",
              "      (bn2): BatchNorm2d(256, eps=1e-05, momentum=0.1, affine=True, track_running_stats=True)\n",
              "      (conv3): Conv2d(256, 1024, kernel_size=(1, 1), stride=(1, 1), bias=False)\n",
              "      (bn3): BatchNorm2d(1024, eps=1e-05, momentum=0.1, affine=True, track_running_stats=True)\n",
              "      (relu): ReLU(inplace=True)\n",
              "    )\n",
              "    (3): Bottleneck(\n",
              "      (conv1): Conv2d(1024, 256, kernel_size=(1, 1), stride=(1, 1), bias=False)\n",
              "      (bn1): BatchNorm2d(256, eps=1e-05, momentum=0.1, affine=True, track_running_stats=True)\n",
              "      (conv2): Conv2d(256, 256, kernel_size=(3, 3), stride=(1, 1), padding=(1, 1), bias=False)\n",
              "      (bn2): BatchNorm2d(256, eps=1e-05, momentum=0.1, affine=True, track_running_stats=True)\n",
              "      (conv3): Conv2d(256, 1024, kernel_size=(1, 1), stride=(1, 1), bias=False)\n",
              "      (bn3): BatchNorm2d(1024, eps=1e-05, momentum=0.1, affine=True, track_running_stats=True)\n",
              "      (relu): ReLU(inplace=True)\n",
              "    )\n",
              "    (4): Bottleneck(\n",
              "      (conv1): Conv2d(1024, 256, kernel_size=(1, 1), stride=(1, 1), bias=False)\n",
              "      (bn1): BatchNorm2d(256, eps=1e-05, momentum=0.1, affine=True, track_running_stats=True)\n",
              "      (conv2): Conv2d(256, 256, kernel_size=(3, 3), stride=(1, 1), padding=(1, 1), bias=False)\n",
              "      (bn2): BatchNorm2d(256, eps=1e-05, momentum=0.1, affine=True, track_running_stats=True)\n",
              "      (conv3): Conv2d(256, 1024, kernel_size=(1, 1), stride=(1, 1), bias=False)\n",
              "      (bn3): BatchNorm2d(1024, eps=1e-05, momentum=0.1, affine=True, track_running_stats=True)\n",
              "      (relu): ReLU(inplace=True)\n",
              "    )\n",
              "    (5): Bottleneck(\n",
              "      (conv1): Conv2d(1024, 256, kernel_size=(1, 1), stride=(1, 1), bias=False)\n",
              "      (bn1): BatchNorm2d(256, eps=1e-05, momentum=0.1, affine=True, track_running_stats=True)\n",
              "      (conv2): Conv2d(256, 256, kernel_size=(3, 3), stride=(1, 1), padding=(1, 1), bias=False)\n",
              "      (bn2): BatchNorm2d(256, eps=1e-05, momentum=0.1, affine=True, track_running_stats=True)\n",
              "      (conv3): Conv2d(256, 1024, kernel_size=(1, 1), stride=(1, 1), bias=False)\n",
              "      (bn3): BatchNorm2d(1024, eps=1e-05, momentum=0.1, affine=True, track_running_stats=True)\n",
              "      (relu): ReLU(inplace=True)\n",
              "    )\n",
              "  )\n",
              "  (layer4): Sequential(\n",
              "    (0): Bottleneck(\n",
              "      (conv1): Conv2d(1024, 512, kernel_size=(1, 1), stride=(1, 1), bias=False)\n",
              "      (bn1): BatchNorm2d(512, eps=1e-05, momentum=0.1, affine=True, track_running_stats=True)\n",
              "      (conv2): Conv2d(512, 512, kernel_size=(3, 3), stride=(2, 2), padding=(1, 1), bias=False)\n",
              "      (bn2): BatchNorm2d(512, eps=1e-05, momentum=0.1, affine=True, track_running_stats=True)\n",
              "      (conv3): Conv2d(512, 2048, kernel_size=(1, 1), stride=(1, 1), bias=False)\n",
              "      (bn3): BatchNorm2d(2048, eps=1e-05, momentum=0.1, affine=True, track_running_stats=True)\n",
              "      (relu): ReLU(inplace=True)\n",
              "      (downsample): Sequential(\n",
              "        (0): Conv2d(1024, 2048, kernel_size=(1, 1), stride=(2, 2), bias=False)\n",
              "        (1): BatchNorm2d(2048, eps=1e-05, momentum=0.1, affine=True, track_running_stats=True)\n",
              "      )\n",
              "    )\n",
              "    (1): Bottleneck(\n",
              "      (conv1): Conv2d(2048, 512, kernel_size=(1, 1), stride=(1, 1), bias=False)\n",
              "      (bn1): BatchNorm2d(512, eps=1e-05, momentum=0.1, affine=True, track_running_stats=True)\n",
              "      (conv2): Conv2d(512, 512, kernel_size=(3, 3), stride=(1, 1), padding=(1, 1), bias=False)\n",
              "      (bn2): BatchNorm2d(512, eps=1e-05, momentum=0.1, affine=True, track_running_stats=True)\n",
              "      (conv3): Conv2d(512, 2048, kernel_size=(1, 1), stride=(1, 1), bias=False)\n",
              "      (bn3): BatchNorm2d(2048, eps=1e-05, momentum=0.1, affine=True, track_running_stats=True)\n",
              "      (relu): ReLU(inplace=True)\n",
              "    )\n",
              "    (2): Bottleneck(\n",
              "      (conv1): Conv2d(2048, 512, kernel_size=(1, 1), stride=(1, 1), bias=False)\n",
              "      (bn1): BatchNorm2d(512, eps=1e-05, momentum=0.1, affine=True, track_running_stats=True)\n",
              "      (conv2): Conv2d(512, 512, kernel_size=(3, 3), stride=(1, 1), padding=(1, 1), bias=False)\n",
              "      (bn2): BatchNorm2d(512, eps=1e-05, momentum=0.1, affine=True, track_running_stats=True)\n",
              "      (conv3): Conv2d(512, 2048, kernel_size=(1, 1), stride=(1, 1), bias=False)\n",
              "      (bn3): BatchNorm2d(2048, eps=1e-05, momentum=0.1, affine=True, track_running_stats=True)\n",
              "      (relu): ReLU(inplace=True)\n",
              "    )\n",
              "  )\n",
              "  (avgpool): AdaptiveAvgPool2d(output_size=(1, 1))\n",
              "  (fc): Linear(in_features=2048, out_features=102, bias=True)\n",
              ")"
            ]
          },
          "execution_count": 8,
          "metadata": {},
          "output_type": "execute_result"
        }
      ],
      "source": [
        "# Check for cuda devices\n",
        "device = 'cuda' if torch.cuda.is_available() else 'cpu'\n",
        "\n",
        "target_model = torch_models.resnet50(weights=ResNet50_Weights.IMAGENET1K_V1)\n",
        "total_feats = target_model.fc.in_features\n",
        "target_model.fc = nn.Linear(total_feats, 102)\n",
        "target_model.load_state_dict(torch.load('./Resnet50Flowers102/data/102flowers/model_resnet50Flower102.pt'))\n",
        "target_model = target_model.to(device)\n",
        "target_model.eval()"
      ]
    },
    {
      "cell_type": "markdown",
      "metadata": {},
      "source": [
        "##### Running"
      ]
    },
    {
      "cell_type": "code",
      "execution_count": 9,
      "metadata": {},
      "outputs": [],
      "source": [
        "# Preprocessamento: especifique como os dados devem ser processados (dependendo do seu modelo)\n",
        "preprocessing = dict(mean=mean, std=std, axis=-3)\n",
        "\n",
        "# Envolva o modelo com o FoolBox\n",
        "fmodel = PyTorchModel(target_model, bounds=(0, 1), preprocessing=preprocessing)"
      ]
    },
    {
      "cell_type": "code",
      "execution_count": 10,
      "metadata": {},
      "outputs": [],
      "source": [
        "df_log = pd.read_csv('log.csv')"
      ]
    },
    {
      "cell_type": "code",
      "execution_count": 11,
      "metadata": {},
      "outputs": [],
      "source": [
        "def runHopSkipJumpAttack(dist, Q_max, iterations, total_load):\n",
        "  print(f'Step: {dist}, {Q_max}, {iterations}')\n",
        "\n",
        "  # Crie o ataque HopSkipJump\n",
        "  attack = HopSkipJumpAttack(constraint=dist, steps=iterations, max_gradient_eval_steps=int(Q_max/iterations))\n",
        "\n",
        "  progress_bar = tqdm(total=total_load)\n",
        "  progress_bar.set_description(f'Dist: {dist}; Q_num: {Q_num}')\n",
        "\n",
        "  path = './data/Flowers102'\n",
        "  for file_name in os.listdir(path):\n",
        "    # Check if this experiment has already been done\n",
        "    if df_log[(df_log['distance'] == dist) & (df_log['query_max'] == Q_max) & (df_log['image'] == f'{path}/{file_name}') & (df_log['attack'] == 'HopSkipJumpAttack')].shape[0] > 0:\n",
        "      progress_bar.update(1)\n",
        "      continue\n",
        "\n",
        "    images_path = []\n",
        "    images_fb = []\n",
        "    labels = []\n",
        "\n",
        "    images_path.append(f'{path}/{file_name}')\n",
        "\n",
        "    image_num = int(file_name[6:11])\n",
        "\n",
        "    # Carregar labels\n",
        "    ground_truth  = open(os.path.join('val_102flowers.txt'), 'r').read().split('\\n')\n",
        "    class_mapping_list  = open(os.path.join('class_mapping.txt'), 'r').read().split('\\n')\n",
        "\n",
        "    class_mapping = {}\n",
        "    for item in class_mapping_list:\n",
        "        pred_c= item.split()\n",
        "        class_mapping[int(pred_c[1])] = pred_c[0]\n",
        "    ground_name_label = ground_truth[image_num-1]\n",
        "    ground_label =  ground_name_label.split()[1]\n",
        "    true_label = int(class_mapping[int(ground_label)])\n",
        "    labels.append(true_label)\n",
        "\n",
        "    # Carregar imagens\n",
        "    im_orig = Image.open(f'{path}/{file_name}')\n",
        "    im_orig = transforms.Compose([transforms.Resize((224, 224))])(im_orig)\n",
        "    image_fb = load_image(im_orig, data_format='channels_first')\n",
        "    image_fb = image_fb / 255.\n",
        "    images_fb.append(image_fb)\n",
        "\n",
        "\n",
        "    # Converter para tensores    \n",
        "    images_np = np.stack(images_fb)\n",
        "    images = torch.tensor(images_np).to(device)\n",
        "    labels = torch.tensor(labels).to(device)\n",
        "    criterion = fb.criteria.Misclassification(labels)\n",
        "\n",
        "\n",
        "    # Rodar algoritmo\n",
        "    t1 = time.time()\n",
        "    advs, _, is_adv = attack(fmodel, images, criterion, epsilons=0.03)\n",
        "    t2 = time.time()\n",
        "\n",
        "\n",
        "    advs_pred = fmodel(advs)\n",
        "    acc = accuracy(fmodel, advs, labels)\n",
        "\n",
        "\n",
        "    if dist == 'l1' or dist == 'l2':\n",
        "      norms_p = fb.distances.l2(images, advs)\n",
        "    if dist == 'linf':\n",
        "      norms_p = fb.distances.inf(images, advs)\n",
        "\n",
        "\n",
        "    with open('log.csv', 'a', newline='') as file:\n",
        "      writer = csv.writer(file)\n",
        "\n",
        "      for i in range(len(images_path)):\n",
        "\n",
        "        image_path = images_path[i]\n",
        "        adv_label = torch.argmax(advs_pred[i]).item()\n",
        "        true_label = labels[i].item()\n",
        "        norm_p = norms_p[i].item()\n",
        "\n",
        "        writer.writerows([['HopSkipJumpAttack', iterations, dist, None, norm_p, t2 - t1, Q_max, Q_max, image_path, true_label, adv_label, acc]])\n",
        "      \n",
        "    progress_bar.update(1)\n",
        "\n",
        "  progress_bar.close()"
      ]
    },
    {
      "cell_type": "code",
      "execution_count": null,
      "metadata": {},
      "outputs": [],
      "source": [
        "dist_avl = ['l2', 'linf']\n",
        "Q_num_avl = [1000, 5000, 20000]\n",
        "intervals = [6, 17, 42]\n",
        "\n",
        "for dist in dist_avl:\n",
        "  for i, Q_num in enumerate(Q_num_avl):\n",
        "    runHopSkipJumpAttack(dist, Q_num, intervals[i], TOTAL_IMAGES_TO_USE)"
      ]
    },
    {
      "cell_type": "markdown",
      "metadata": {},
      "source": [
        "## Analytics"
      ]
    },
    {
      "cell_type": "code",
      "execution_count": 358,
      "metadata": {},
      "outputs": [],
      "source": [
        "df = pd.read_csv('log.csv')\n",
        "\n",
        "df['dataset'] = df['image'].apply(lambda x: 'ImageNet' if 'ILSVRC2012_img_val' in x else ('Flowers102' if 'Flowers102' in x else 'outro'))\n",
        "df = df[df['query_max'] != 10000]\n",
        "df = df[df['query_max'] != 500]\n",
        "df = df[df['norm_p'] != 0.0]\n"
      ]
    },
    {
      "cell_type": "code",
      "execution_count": 344,
      "metadata": {},
      "outputs": [
        {
          "name": "stdout",
          "output_type": "stream",
          "text": [
            "       dataset             attack distance  query_max     norm_p\n",
            "0   Flowers102  HopSkipJumpAttack       l2       1000  10.416317\n",
            "1   Flowers102  HopSkipJumpAttack       l2       5000   3.388218\n",
            "2   Flowers102  HopSkipJumpAttack       l2      20000   2.036896\n",
            "3   Flowers102  HopSkipJumpAttack     linf       1000   0.093573\n",
            "4   Flowers102  HopSkipJumpAttack     linf       5000   0.089761\n",
            "5   Flowers102  HopSkipJumpAttack     linf      20000   0.115865\n",
            "6   Flowers102              geoda       l2       1000   7.462089\n",
            "7   Flowers102              geoda       l2       5000   3.442279\n",
            "8   Flowers102              geoda       l2      20000   2.087560\n",
            "9   Flowers102              geoda     linf       1000   0.032494\n",
            "10  Flowers102              geoda     linf       5000   0.014018\n",
            "11  Flowers102              geoda     linf      20000   0.008507\n",
            "12    ImageNet  HopSkipJumpAttack       l2       1000  17.296208\n",
            "13    ImageNet  HopSkipJumpAttack       l2       5000   4.104762\n",
            "14    ImageNet  HopSkipJumpAttack       l2      20000   3.086897\n",
            "15    ImageNet  HopSkipJumpAttack     linf       1000   0.177363\n",
            "16    ImageNet  HopSkipJumpAttack     linf       5000   0.153819\n",
            "17    ImageNet  HopSkipJumpAttack     linf      20000   0.147065\n",
            "18    ImageNet              geoda       l2       1000   7.821323\n",
            "19    ImageNet              geoda       l2       5000   3.700588\n",
            "20    ImageNet              geoda       l2      20000   2.250609\n",
            "21    ImageNet              geoda     linf       1000   0.032288\n",
            "22    ImageNet              geoda     linf       5000   0.015817\n",
            "23    ImageNet              geoda     linf      20000   0.010279\n"
          ]
        }
      ],
      "source": [
        "# Primeiro, encontrar a máxima 'iteration' para cada grupo definido por 'attack', 'distance' e 'query_max'\n",
        "max_iteration_per_group = df.groupby(['dataset', 'attack', 'distance', 'query_max'])['iteration'].transform('max')\n",
        "\n",
        "# Filtrar o DataFrame original para manter apenas as linhas que correspondem ao máximo 'iteration' encontrado\n",
        "df_max_iterations = df[df['iteration'] == max_iteration_per_group]\n",
        "\n",
        "# Agora, calcular a mediana de 'norm_p' para os grupos filtrados\n",
        "median_norm_p = df_max_iterations.groupby(['dataset', 'attack', 'distance', 'query_max'])['norm_p'].median().reset_index()\n",
        "\n",
        "print(median_norm_p)"
      ]
    },
    {
      "cell_type": "code",
      "execution_count": 345,
      "metadata": {},
      "outputs": [
        {
          "data": {
            "image/png": "[encoded data removed]",
            "text/plain": [
              "<Figure size 1200x800 with 1 Axes>"
            ]
          },
          "metadata": {},
          "output_type": "display_data"
        }
      ],
      "source": [
        "\n",
        "df_geoda = df[(df['attack'] == 'geoda') & (df['distance'] == 'l2')]\n",
        "\n",
        "grouped = df_geoda.groupby(['image', 'dataset', 'attack', 'query_max']).agg(time_sum=('time', 'sum')).reset_index()\n",
        "\n",
        "grouped = grouped.groupby(['dataset', 'attack', 'query_max']).agg(time_sum=('time_sum', 'median')).reset_index()\n",
        "\n",
        "datasets = grouped['dataset'].unique()\n",
        "plt.figure(figsize=(12, 8))\n",
        "\n",
        "for dataset in datasets:\n",
        "    subset = grouped[grouped['dataset'] == dataset]\n",
        "    # Ordenando pelo 'query_max' para garantir uma linha contínua\n",
        "    subset = subset.sort_values('query_max')\n",
        "    plt.plot(subset['query_max'], subset['time_sum'], label=dataset, marker='o')\n",
        "\n",
        "plt.title('Tempo do busca por consultas (Ataque GeoDA)')\n",
        "plt.xlabel('Número de consultas')\n",
        "plt.ylabel('Tempo do busca (segundos)')\n",
        "plt.legend(title='Datasets')\n",
        "plt.grid(True)\n",
        "plt.show()"
      ]
    },
    {
      "cell_type": "code",
      "execution_count": 346,
      "metadata": {},
      "outputs": [
        {
          "name": "stdout",
          "output_type": "stream",
          "text": [
            "      dataset  query_max    norm_p\n",
            "0  Flowers102       1000  7.462089\n",
            "1  Flowers102       5000  3.442279\n",
            "2  Flowers102      20000  2.087560\n",
            "3    ImageNet       1000  7.669284\n",
            "4    ImageNet       5000  3.688805\n",
            "5    ImageNet      20000  2.250609\n"
          ]
        },
        {
          "data": {
            "image/png": "[encoded data removed]",
            "text/plain": [
              "<Figure size 1200x800 with 1 Axes>"
            ]
          },
          "metadata": {},
          "output_type": "display_data"
        }
      ],
      "source": [
        "df_geoda = df[(df['attack'] == 'geoda') & (df['distance'] == 'l2')]\n",
        "\n",
        "grouped = df_geoda.groupby(['image', 'dataset', 'query_max']).agg(norm_p=('norm_p', 'min')).reset_index()\n",
        "\n",
        "grouped = grouped.groupby(['dataset', 'query_max']).agg(norm_p=('norm_p', 'median')).reset_index()\n",
        "\n",
        "print(grouped)\n",
        "\n",
        "datasets = grouped['dataset'].unique()\n",
        "plt.figure(figsize=(12, 8))\n",
        "\n",
        "for dataset in datasets:\n",
        "    subset = grouped[grouped['dataset'] == dataset]\n",
        "    # Ordenando pelo 'query_max' para garantir uma linha contínua\n",
        "    subset = subset.sort_values('query_max')\n",
        "    plt.plot(subset['query_max'], subset['norm_p'], label=dataset, marker='o')\n",
        "\n",
        "plt.title('Norma_l2 por consultas (Ataque GeoDa)')\n",
        "plt.xlabel('Número de consultas')\n",
        "plt.ylabel('Norma_l2')\n",
        "plt.legend(title='Dataset')\n",
        "plt.grid(True)\n",
        "plt.show()"
      ]
    },
    {
      "cell_type": "code",
      "execution_count": 347,
      "metadata": {},
      "outputs": [
        {
          "name": "stdout",
          "output_type": "stream",
          "text": [
            "      dataset  query_max     norm_p\n",
            "0  Flowers102       1000  10.416317\n",
            "1  Flowers102       5000   3.388218\n",
            "2  Flowers102      20000   2.036896\n",
            "3    ImageNet       1000  17.181767\n",
            "4    ImageNet       5000   3.597367\n",
            "5    ImageNet      20000   3.086897\n"
          ]
        },
        {
          "data": {
            "image/png": "[encoded data removed]",
            "text/plain": [
              "<Figure size 1200x800 with 1 Axes>"
            ]
          },
          "metadata": {},
          "output_type": "display_data"
        }
      ],
      "source": [
        "df_geoda = df[(df['attack'] == 'HopSkipJumpAttack') & (df['distance'] == 'l2')]\n",
        "\n",
        "grouped = df_geoda.groupby(['image', 'dataset', 'query_max']).agg(norm_p=('norm_p', 'min')).reset_index()\n",
        "\n",
        "grouped = grouped.groupby(['dataset', 'query_max']).agg(norm_p=('norm_p', 'median')).reset_index()\n",
        "\n",
        "print(grouped)\n",
        "\n",
        "datasets = grouped['dataset'].unique()\n",
        "plt.figure(figsize=(12, 8))\n",
        "\n",
        "for dataset in datasets:\n",
        "    subset = grouped[grouped['dataset'] == dataset]\n",
        "    # Ordenando pelo 'query_max' para garantir uma linha contínua\n",
        "    subset = subset.sort_values('query_max')\n",
        "    plt.plot(subset['query_max'], subset['norm_p'], label=dataset, marker='o')\n",
        "\n",
        "plt.title('Norma_l2 por número de consultas (Ataque HopSkipJumpAttack)')\n",
        "plt.xlabel('Número de consultas')\n",
        "plt.ylabel('Norma_l2')\n",
        "plt.legend(title='Dataset')\n",
        "plt.grid(True)\n",
        "plt.show()"
      ]
    },
    {
      "cell_type": "code",
      "execution_count": 359,
      "metadata": {},
      "outputs": [
        {
          "name": "stdout",
          "output_type": "stream",
          "text": [
            "              attack  query_max     time_sum\n",
            "0  HopSkipJumpAttack       1000    65.003346\n",
            "1  HopSkipJumpAttack       5000   302.172007\n",
            "2  HopSkipJumpAttack      20000  1173.533954\n",
            "3              geoda       1000     5.933954\n",
            "4              geoda       5000    29.191376\n",
            "5              geoda      20000   116.881929\n"
          ]
        },
        {
          "data": {
            "image/png": "[encoded data removed]",
            "text/plain": [
              "<Figure size 1200x800 with 1 Axes>"
            ]
          },
          "metadata": {},
          "output_type": "display_data"
        }
      ],
      "source": [
        "\n",
        "df_geoda = df[(df['dataset'] == 'Flowers102') & (df['distance'] == 'l2')]\n",
        "\n",
        "grouped = df_geoda.groupby(['image', 'attack', 'query_max']).agg(time_sum=('time', 'sum')).reset_index()\n",
        "\n",
        "grouped = grouped.groupby(['attack', 'query_max']).agg(time_sum=('time_sum', 'median')).reset_index()\n",
        "\n",
        "print(grouped)\n",
        "\n",
        "attacks = grouped['attack'].unique()\n",
        "plt.figure(figsize=(12, 8))\n",
        "\n",
        "for attack in attacks:\n",
        "    subset = grouped[grouped['attack'] == attack]\n",
        "    # Ordenando pelo 'query_max' para garantir uma linha contínua\n",
        "    subset = subset.sort_values('query_max')\n",
        "    plt.plot(subset['query_max'], subset['time_sum'], label=attack, marker='o')\n",
        "\n",
        "plt.title('Tempo do busca por consultas (Dataset Flowers102)')\n",
        "plt.xlabel('Número de consultas')\n",
        "plt.ylabel('Tempo do busca (segundos)')\n",
        "plt.legend(title='Ataques')\n",
        "plt.grid(True)\n",
        "plt.show()"
      ]
    },
    {
      "cell_type": "code",
      "execution_count": 360,
      "metadata": {},
      "outputs": [
        {
          "name": "stdout",
          "output_type": "stream",
          "text": [
            "              attack  query_max     norm_p\n",
            "0  HopSkipJumpAttack       1000  10.416317\n",
            "1  HopSkipJumpAttack       5000   3.388218\n",
            "2  HopSkipJumpAttack      20000   2.036896\n",
            "3              geoda       1000   7.462089\n",
            "4              geoda       5000   3.442279\n",
            "5              geoda      20000   2.087560\n"
          ]
        },
        {
          "data": {
            "image/png": "[encoded data removed]",
            "text/plain": [
              "<Figure size 1200x800 with 1 Axes>"
            ]
          },
          "metadata": {},
          "output_type": "display_data"
        }
      ],
      "source": [
        "\n",
        "df_geoda = df[(df['dataset'] == 'Flowers102') & (df['distance'] == 'l2')]\n",
        "\n",
        "grouped = df_geoda.groupby(['image', 'attack', 'query_max']).agg(norm_p=('norm_p', 'min')).reset_index()\n",
        "\n",
        "grouped = grouped.groupby(['attack', 'query_max']).agg(norm_p=('norm_p', 'median')).reset_index()\n",
        "\n",
        "print(grouped)\n",
        "\n",
        "attacks = grouped['attack'].unique()\n",
        "plt.figure(figsize=(12, 8))\n",
        "\n",
        "for attack in attacks:\n",
        "    subset = grouped[grouped['attack'] == attack]\n",
        "    # Ordenando pelo 'query_max' para garantir uma linha contínua\n",
        "    subset = subset.sort_values('query_max')\n",
        "    plt.plot(subset['query_max'], subset['norm_p'], label=attack, marker='o')\n",
        "\n",
        "plt.title('Norma_l2 por número de consultas (Dataset Flowers102)')\n",
        "plt.xlabel('Número de consultas')\n",
        "plt.ylabel('Norma_l2')\n",
        "plt.legend(title='Ataque')\n",
        "plt.grid(True)\n",
        "plt.show()"
      ]
    },
    {
      "cell_type": "code",
      "execution_count": 342,
      "metadata": {},
      "outputs": [
        {
          "name": "stdout",
          "output_type": "stream",
          "text": [
            "1100 2937 0.37453183520599254\n"
          ]
        }
      ],
      "source": [
        "df_geoda = df[(df['attack'] == 'geoda')]\n",
        "\n",
        "grouped = df_geoda.groupby(['image', 'distance', 'attack', 'query_max']).agg(query_num=('query_num', 'max')).reset_index()\n",
        "\n",
        "# Get count registers thar has query_num > query_max\n",
        "print(grouped[grouped['query_num'] > grouped['query_max']].shape[0], grouped.shape[0], grouped[grouped['query_num'] > grouped['query_max']].shape[0] / grouped.shape[0])"
      ]
    }
  ],
  "metadata": {
    "accelerator": "TPU",
    "colab": {
      "provenance": []
    },
    "kernelspec": {
      "display_name": "Python 3",
      "name": "python3"
    },
    "language_info": {
      "codemirror_mode": {
        "name": "ipython",
        "version": 3
      },
      "file_extension": ".py",
      "mimetype": "text/x-python",
      "name": "python",
      "nbconvert_exporter": "python",
      "pygments_lexer": "ipython3",
      "version": "3.9.6"
    }
  },
  "nbformat": 4,
  "nbformat_minor": 0
}
